{
  "nbformat": 4,
  "nbformat_minor": 0,
  "metadata": {
    "colab": {
      "provenance": [],
      "authorship_tag": "ABX9TyOBW8PzYTQGm2bxG5NwL4Sc",
      "include_colab_link": true
    },
    "kernelspec": {
      "name": "python3",
      "display_name": "Python 3"
    },
    "language_info": {
      "name": "python"
    }
  },
  "cells": [
    {
      "cell_type": "markdown",
      "metadata": {
        "id": "view-in-github",
        "colab_type": "text"
      },
      "source": [
        "<a href=\"https://colab.research.google.com/github/piaseckazaneta/CV/blob/master/pandas_learning.ipynb\" target=\"_parent\"><img src=\"https://colab.research.google.com/assets/colab-badge.svg\" alt=\"Open In Colab\"/></a>"
      ]
    },
    {
      "cell_type": "code",
      "execution_count": 2,
      "metadata": {
        "id": "n-JJWRZ6TVxL"
      },
      "outputs": [],
      "source": [
        "import pandas as pd"
      ]
    },
    {
      "cell_type": "code",
      "source": [
        "# Tworzenie DataFrame (główna struktura danych w pandas) i Series (jedno-wymiarowa tablica)\n",
        "\n",
        "#Stwórz prosty DataFrame z danych w postaci słownika\n",
        "data = {\n",
        "    'Imię': ['Anna', 'Tomasz', 'Kasia'],\n",
        "    'Wiek': [23, 34, 28]\n",
        "}\n",
        "\n",
        "df = pd.DataFrame(data)\n",
        "\n",
        "print(df)"
      ],
      "metadata": {
        "colab": {
          "base_uri": "https://localhost:8080/"
        },
        "id": "S4kLYclZTmFO",
        "outputId": "65c9f272-01a5-4330-d929-536621a989fc"
      },
      "execution_count": 3,
      "outputs": [
        {
          "output_type": "stream",
          "name": "stdout",
          "text": [
            "     Imię  Wiek\n",
            "0    Anna    23\n",
            "1  Tomasz    34\n",
            "2   Kasia    28\n"
          ]
        }
      ]
    },
    {
      "cell_type": "code",
      "source": [
        "# Tworzenie Series z listy\n",
        "\n",
        "series = pd.Series([1, 2, 3, 4, 5])\n",
        "\n",
        "print(series)"
      ],
      "metadata": {
        "colab": {
          "base_uri": "https://localhost:8080/"
        },
        "id": "05fIxBYCXVMC",
        "outputId": "1de7d81e-aade-4eb2-e808-0a187cade290"
      },
      "execution_count": 4,
      "outputs": [
        {
          "output_type": "stream",
          "name": "stdout",
          "text": [
            "0    1\n",
            "1    2\n",
            "2    3\n",
            "3    4\n",
            "4    5\n",
            "dtype: int64\n"
          ]
        }
      ]
    },
    {
      "cell_type": "code",
      "source": [
        "##### Zadanie 1: Stwórz DataFrame z danymi (np. imiona, wiek, miasto) o co najmniej 5 wierszach.\n",
        "\n",
        "dane = {\n",
        "    'imie': ['Maryla', 'Basia', 'Ola', 'Jarek', 'Zuza'],\n",
        "    'wiek': [50, 32, 15, 31, 18],\n",
        "    'miasto': ['Gdynia', 'Warszawa', 'Poznan', 'Gdynia', 'Poznan']\n",
        "}\n",
        "\n",
        "df = pd.DataFrame(dane)\n",
        "\n",
        "print(df)"
      ],
      "metadata": {
        "colab": {
          "base_uri": "https://localhost:8080/"
        },
        "id": "WiLdjQ6tX6l0",
        "outputId": "360bd453-8ba5-422c-af66-58dc1bd728c4"
      },
      "execution_count": 5,
      "outputs": [
        {
          "output_type": "stream",
          "name": "stdout",
          "text": [
            "     imie  wiek    miasto\n",
            "0  Maryla    50    Gdynia\n",
            "1   Basia    32  Warszawa\n",
            "2     Ola    15    Poznan\n",
            "3   Jarek    31    Gdynia\n",
            "4    Zuza    18    Poznan\n"
          ]
        }
      ]
    },
    {
      "cell_type": "code",
      "source": [
        "# Zrób przegląd danych: wyświetl pierwsze i ostatnie 3 wiersze za pomocą df.head() i df.tail().\n",
        "\n",
        "print(df.head(3))\n",
        "print(df.tail(3))"
      ],
      "metadata": {
        "colab": {
          "base_uri": "https://localhost:8080/"
        },
        "id": "sUAkrfkMa021",
        "outputId": "fc72e55d-2450-417c-fa40-eee37f1bc4d7"
      },
      "execution_count": 6,
      "outputs": [
        {
          "output_type": "stream",
          "name": "stdout",
          "text": [
            "     imie  wiek    miasto\n",
            "0  Maryla    50    Gdynia\n",
            "1   Basia    32  Warszawa\n",
            "2     Ola    15    Poznan\n",
            "    imie  wiek  miasto\n",
            "2    Ola    15  Poznan\n",
            "3  Jarek    31  Gdynia\n",
            "4   Zuza    18  Poznan\n"
          ]
        }
      ]
    },
    {
      "cell_type": "code",
      "source": [
        "##### Zadanie 2 ###########\n",
        "# Stwórz DataFrame z różnymi typami danych: tekst, liczby całkowite, liczby zmiennoprzecinkowe, daty.\n",
        "# Zastosuj konwersję typów danych w kolumnach (np. zmień kolumnę z datą na typ datetime).\n",
        "# Spróbuj użyć funkcji df.dtypes i pd.to_datetime(), aby upewnić się, że odpowiednie kolumny mają właściwe typy.\n",
        "\n",
        "dane = {\n",
        "    'imie': ['Jan', 'Halina', 'Tomek'],\n",
        "    'wiek': [50, 18, 33],\n",
        "    'wzrost': [1.78, 1.64, 1.85],\n",
        "    'data_urodzenia': ['1987-07-12', '1975-09-15', '2001-01-23']\n",
        "}\n",
        "\n",
        "df = pd.DataFrame(dane)\n",
        "print(df)"
      ],
      "metadata": {
        "colab": {
          "base_uri": "https://localhost:8080/"
        },
        "id": "uZdQ2ad7bKcu",
        "outputId": "85a34622-e87a-486b-e03a-78f88a56edd7"
      },
      "execution_count": 12,
      "outputs": [
        {
          "output_type": "stream",
          "name": "stdout",
          "text": [
            "     imie  wiek  wzrost data_urodzenia\n",
            "0     Jan    50    1.78     1987-07-12\n",
            "1  Halina    18    1.64     1975-09-15\n",
            "2   Tomek    33    1.85     2001-01-23\n"
          ]
        }
      ]
    },
    {
      "cell_type": "code",
      "source": [
        "df['data_urodzenia'] = pd.to_datetime(df['data_urodzenia'])\n",
        "print(df.dtypes)"
      ],
      "metadata": {
        "colab": {
          "base_uri": "https://localhost:8080/"
        },
        "id": "25vr2wbRdq6P",
        "outputId": "dbddc7cb-fcf7-4f1f-d68d-8aea789c10a4"
      },
      "execution_count": 14,
      "outputs": [
        {
          "output_type": "stream",
          "name": "stdout",
          "text": [
            "imie                      object\n",
            "wiek                       int64\n",
            "wzrost                   float64\n",
            "data_urodzenia    datetime64[ns]\n",
            "dtype: object\n"
          ]
        }
      ]
    }
  ]
}