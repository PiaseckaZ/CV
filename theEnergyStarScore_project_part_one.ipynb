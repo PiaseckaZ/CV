{
  "nbformat": 4,
  "nbformat_minor": 0,
  "metadata": {
    "colab": {
      "provenance": [],
      "authorship_tag": "ABX9TyM78j34WrYrEgs8YFXdxe+V",
      "include_colab_link": true
    },
    "kernelspec": {
      "name": "python3",
      "display_name": "Python 3"
    },
    "language_info": {
      "name": "python"
    }
  },
  "cells": [
    {
      "cell_type": "markdown",
      "metadata": {
        "id": "view-in-github",
        "colab_type": "text"
      },
      "source": [
        "<a href=\"https://colab.research.google.com/github/piaseckazaneta/CV/blob/master/theEnergyStarScore_project_part_one.ipynb\" target=\"_parent\"><img src=\"https://colab.research.google.com/assets/colab-badge.svg\" alt=\"Open In Colab\"/></a>"
      ]
    },
    {
      "cell_type": "markdown",
      "source": [
        "The objective is to use the energy data to build a model that can predict the Energy Star Score of a building and interpret the results to find the factors which influence the score."
      ],
      "metadata": {
        "id": "uZi2MTXaPV4A"
      }
    },
    {
      "cell_type": "markdown",
      "source": [
        "The data includes the Energy Star Score, which makes this a supervised regression machine learning task:\n",
        "\n",
        "Supervised: we have access to both the features and the target and our goal is to train a model that can learn a mapping between the two\n",
        "Regression: The Energy Star score is a continuous variable"
      ],
      "metadata": {
        "id": "M9-Uo3YOPd-6"
      }
    },
    {
      "cell_type": "markdown",
      "source": [
        "We want to develop a model that is both accurate — it can predict the Energy Star Score close to the true value — and interpretable — we can understand the model predictions. Once we know the goal, we can use it to guide our decisions as we dig into the data and build models."
      ],
      "metadata": {
        "id": "MQZJY3DEPfYb"
      }
    },
    {
      "cell_type": "markdown",
      "source": [
        "1. Data Cleaning\n",
        "Real-world data is messy which means we need to clean and wrangle it into an acceptable format before we can even start the analysis. Data cleaning is an un-glamorous, but necessary part of most actual data science problems."
      ],
      "metadata": {
        "id": "SLVWKhTQP5Hx"
      }
    },
    {
      "cell_type": "code",
      "execution_count": 8,
      "metadata": {
        "id": "hGYa9e0wOhnv",
        "outputId": "31fc3b65-383c-4875-d34d-fa26096792ac",
        "colab": {
          "base_uri": "https://localhost:8080/"
        }
      },
      "outputs": [
        {
          "output_type": "stream",
          "name": "stdout",
          "text": [
            "   Order  Property Id                                 Property Name  \\\n",
            "0      1        13286                                       201/205   \n",
            "1      2        28400                    NYP Columbia (West Campus)   \n",
            "2      3      4778226                                 MSCHoNY North   \n",
            "3      4      4778267  Herbert Irving Pavilion & Millstein Hospital   \n",
            "4      5      4778288                               Neuro Institute   \n",
            "\n",
            "  Parent Property Id        Parent Property Name BBL - 10 digits  \\\n",
            "0              13286                     201/205      1013160001   \n",
            "1              28400  NYP Columbia (West Campus)      1021380040   \n",
            "2              28400  NYP Columbia (West Campus)      1021380030   \n",
            "3              28400  NYP Columbia (West Campus)      1021390001   \n",
            "4              28400  NYP Columbia (West Campus)      1021390085   \n",
            "\n",
            "  NYC Borough, Block and Lot (BBL) self-reported  \\\n",
            "0                                     1013160001   \n",
            "1                                   1-02138-0040   \n",
            "2                                   1-02138-0030   \n",
            "3                                   1-02139-0001   \n",
            "4                                   1-02139-0085   \n",
            "\n",
            "            NYC Building Identification Number (BIN)  \\\n",
            "0                                            1037549   \n",
            "1  1084198; 1084387;1084385; 1084386; 1084388; 10...   \n",
            "2                                            1063380   \n",
            "3                                   1087281; 1076746   \n",
            "4                                            1063403   \n",
            "\n",
            "  Address 1 (self-reported)                Address 2  ...  \\\n",
            "0  201/205  East  42nd  st.            Not Available  ...   \n",
            "1          622 168th Street            Not Available  ...   \n",
            "2             3975 Broadway            Not Available  ...   \n",
            "3   161 Fort Washington Ave  177 Fort Washington Ave  ...   \n",
            "4     710 West 168th Street            Not Available  ...   \n",
            "\n",
            "  Source EUI (kBtu/ft²)            Release Date Water Required?  \\\n",
            "0                 619.4  05/01/2017 05:32:03 PM              No   \n",
            "1                 404.3  04/27/2017 11:23:27 AM              No   \n",
            "2         Not Available  04/27/2017 11:23:27 AM              No   \n",
            "3         Not Available  04/27/2017 11:23:27 AM              No   \n",
            "4         Not Available  04/27/2017 11:23:27 AM              No   \n",
            "\n",
            "  DOF Benchmarking Submission Status   Latitude  Longitude Community Board  \\\n",
            "0                      In Compliance  40.750791 -73.973963             6.0   \n",
            "1                      In Compliance  40.841402 -73.942568            12.0   \n",
            "2                      In Compliance  40.840427 -73.940249            12.0   \n",
            "3                      In Compliance  40.840746 -73.942854            12.0   \n",
            "4                      In Compliance  40.841559 -73.942528            12.0   \n",
            "\n",
            "  Council District Census Tract  \\\n",
            "0              4.0         88.0   \n",
            "1             10.0        251.0   \n",
            "2             10.0        251.0   \n",
            "3             10.0        255.0   \n",
            "4             10.0        255.0   \n",
            "\n",
            "                                                 NTA  \n",
            "0  Turtle Bay-East Midtown                       ...  \n",
            "1  Washington Heights South                      ...  \n",
            "2  Washington Heights South                      ...  \n",
            "3  Washington Heights South                      ...  \n",
            "4  Washington Heights South                      ...  \n",
            "\n",
            "[5 rows x 60 columns]\n"
          ]
        }
      ],
      "source": [
        "#1.1. Import libraries\n",
        "\n",
        "import pandas as pd\n",
        "import numpy as np\n",
        "\n",
        "#1.2. # Read in data into a dataframe\n",
        "\n",
        "url = 'https://raw.githubusercontent.com/WillKoehrsen/machine-learning-project-walkthrough/refs/heads/master/data/Energy_and_Water_Data_Disclosure_for_Local_Law_84_2017__Data_for_Calendar_Year_2016_.csv'\n",
        "data = pd.read_csv(url)\n",
        "\n",
        "print(data.head())\n",
        "\n"
      ]
    }
  ]
}