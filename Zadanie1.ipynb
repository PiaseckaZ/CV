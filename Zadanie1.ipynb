{
  "nbformat": 4,
  "nbformat_minor": 0,
  "metadata": {
    "colab": {
      "provenance": [],
      "authorship_tag": "ABX9TyPiOl6FpGM7Wj8V1AUbrIIW",
      "include_colab_link": true
    },
    "kernelspec": {
      "name": "python3",
      "display_name": "Python 3"
    },
    "language_info": {
      "name": "python"
    }
  },
  "cells": [
    {
      "cell_type": "markdown",
      "metadata": {
        "id": "view-in-github",
        "colab_type": "text"
      },
      "source": [
        "<a href=\"https://colab.research.google.com/github/piaseckazaneta/CV/blob/master/Zadanie1.ipynb\" target=\"_parent\"><img src=\"https://colab.research.google.com/assets/colab-badge.svg\" alt=\"Open In Colab\"/></a>"
      ]
    },
    {
      "cell_type": "code",
      "execution_count": 1,
      "metadata": {
        "id": "fGIHLF4MWFRS"
      },
      "outputs": [],
      "source": [
        "#dataframe\n",
        "import numpy\n",
        "import pandas"
      ]
    },
    {
      "cell_type": "code",
      "source": [
        "myarray = numpy.array([[1, 2, 3],  [4, 5, 6]])\n",
        "rownames = ['a', 'b']\n",
        "colnames = ['one', 'two', 'three']\n",
        "mydataframe = pandas.DataFrame(myarray, index=rownames, columns=colnames)\n",
        "print(mydataframe)"
      ],
      "metadata": {
        "colab": {
          "base_uri": "https://localhost:8080/"
        },
        "id": "WydL3KEqWTFW",
        "outputId": "6e90d1a5-d10a-40f0-c203-806e37106d16"
      },
      "execution_count": 5,
      "outputs": [
        {
          "output_type": "stream",
          "name": "stdout",
          "text": [
            "   one  two  three\n",
            "a    1    2      3\n",
            "b    4    5      6\n"
          ]
        }
      ]
    },
    {
      "cell_type": "markdown",
      "source": [
        "Zadanie 1.\n",
        "Napisz program, który:\n",
        "\n",
        "Prosi użytkownika o podanie listy liczb (oddzielonych przecinkami).\n",
        "Sortuje listę rosnąco.\n",
        "Wyświetla wszystkie liczby większe od średniej.\n",
        "Jeśli liczba na liście jest większa od 10, wyświetla dodatkowy komunikat."
      ],
      "metadata": {
        "id": "9JZHHw2SYVKf"
      }
    },
    {
      "cell_type": "code",
      "source": [
        "# Pobranie danych od użytkownika (użytkownik wprowadzi tekst, w następnym kroku bęzie trzeba zamienić na liczbę)\n",
        "dane = input('Podaj listę liczb oddzielonych przecinkami: ')\n"
      ],
      "metadata": {
        "colab": {
          "base_uri": "https://localhost:8080/"
        },
        "id": "c85TWhV8YWuN",
        "outputId": "1ffa95c9-5829-4c1b-a12f-38a604eb2972"
      },
      "execution_count": 6,
      "outputs": [
        {
          "name": "stdout",
          "output_type": "stream",
          "text": [
            "Podaj listę liczb oddzielonych przecinkami: 1, 3, 5, 6, 7, 8, 2, 4\n"
          ]
        }
      ]
    },
    {
      "cell_type": "code",
      "source": [
        "liczby = list(map(int, dane.split(',')))\n",
        "\n",
        "# Metoda .split(',') bierze ciąg znaków (dane) i dzieli go na fragmenty w miejscach, gdzie występuje przecinek (,).\n",
        "# Wynik jest listą tekstowych elementów (stringów)\n",
        "\n",
        "#Funkcja map() stosuje podaną funkcję (w tym przypadku int) do każdego elementu listy.\n",
        "#map() nie zwraca listy, ale iterator, który trzeba jeszcze przekształcić w listę.\n",
        "\n",
        "#Funkcja list() konwertuje iterator (wynik działania map) na listę, którą można używać w programie.\n",
        "\n",
        "print('Twoja lista liczb: ', liczby)"
      ],
      "metadata": {
        "colab": {
          "base_uri": "https://localhost:8080/"
        },
        "id": "fuE8XBENYoxq",
        "outputId": "7d9ca4b9-0b5b-495c-bee6-b9e3bda6a4df"
      },
      "execution_count": 16,
      "outputs": [
        {
          "output_type": "stream",
          "name": "stdout",
          "text": [
            "Twoja lista liczb:  [1, 3, 5, 6, 7, 8, 2, 4]\n"
          ]
        }
      ]
    },
    {
      "cell_type": "code",
      "source": [
        "liczby.sort()\n",
        "print(liczby)"
      ],
      "metadata": {
        "colab": {
          "base_uri": "https://localhost:8080/"
        },
        "id": "SCzE1-LpaE8y",
        "outputId": "caa5c7b0-aa08-4c4c-f153-cafc5ffd60f7"
      },
      "execution_count": 17,
      "outputs": [
        {
          "output_type": "stream",
          "name": "stdout",
          "text": [
            "[1, 2, 3, 4, 5, 6, 7, 8]\n"
          ]
        }
      ]
    },
    {
      "cell_type": "code",
      "source": [
        "import statistics\n",
        "srednia = statistics.mean(liczby)\n",
        "print(srednia)"
      ],
      "metadata": {
        "colab": {
          "base_uri": "https://localhost:8080/"
        },
        "id": "NaEVniydexwQ",
        "outputId": "c09cb453-5abd-4b26-ae8e-e8281c6b9318"
      },
      "execution_count": 23,
      "outputs": [
        {
          "output_type": "stream",
          "name": "stdout",
          "text": [
            "4.5\n"
          ]
        }
      ]
    },
    {
      "cell_type": "code",
      "source": [
        "liczba_wieksza_od_sredniej = [liczba for liczba in liczby if liczba > srednia]\n",
        "print(liczba_wieksza_od_sredniej)"
      ],
      "metadata": {
        "colab": {
          "base_uri": "https://localhost:8080/"
        },
        "id": "bXJ0A4LgflLo",
        "outputId": "ad6a639d-7ce6-464d-a6d7-3d06791ba1d5"
      },
      "execution_count": 29,
      "outputs": [
        {
          "output_type": "stream",
          "name": "stdout",
          "text": [
            "[5, 6, 7, 8]\n"
          ]
        }
      ]
    },
    {
      "cell_type": "markdown",
      "source": [
        "Powyższy kod tworzy nową listę, zawierającą tylko liczby większe od średniej.\n",
        "\n",
        "liczba for liczba in liczby: iteruje przez każdą liczbę w liście.\n",
        "if liczba > srednia: sprawdza, czy liczba jest większa od średniej."
      ],
      "metadata": {
        "id": "TCy702qigw4m"
      }
    },
    {
      "cell_type": "markdown",
      "source": [
        "Poniżej sprawdzenie, czy w liście znajduje się liczba większa od 10.\n",
        "\n",
        "Można to zrobić na kilka sposobów\n",
        "1. If: [wartość_if for element in iterowalny_obiekt if warunek]\n",
        "2. If-else: [wartość_if_true if warunek else wartość_if_false for element in iterowalny_obiekt]\n",
        "3. any() lub filter() dla bardziej zwięzłego kodu\n",
        "4. Pętla for"
      ],
      "metadata": {
        "id": "is33wiY5jnT6"
      }
    },
    {
      "cell_type": "code",
      "source": [
        "for liczba in liczby:\n",
        "  if liczba > 10:\n",
        "    print('Liczba większa od 10')\n",
        "  else:\n",
        "    print('Brak liczby większej od 10')"
      ],
      "metadata": {
        "colab": {
          "base_uri": "https://localhost:8080/"
        },
        "id": "9e40lpqHhF5W",
        "outputId": "9f5e8b50-0676-422b-f2fc-12a23a5f1d80"
      },
      "execution_count": 36,
      "outputs": [
        {
          "output_type": "stream",
          "name": "stdout",
          "text": [
            "Brak liczby większej od 10\n",
            "Brak liczby większej od 10\n",
            "Brak liczby większej od 10\n",
            "Brak liczby większej od 10\n",
            "Brak liczby większej od 10\n",
            "Brak liczby większej od 10\n",
            "Brak liczby większej od 10\n",
            "Brak liczby większej od 10\n"
          ]
        }
      ]
    }
  ]
}