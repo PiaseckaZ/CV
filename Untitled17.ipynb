{
  "nbformat": 4,
  "nbformat_minor": 0,
  "metadata": {
    "colab": {
      "provenance": [],
      "authorship_tag": "ABX9TyO93h2oYfwjXCsssPWKbR1N",
      "include_colab_link": true
    },
    "kernelspec": {
      "name": "python3",
      "display_name": "Python 3"
    },
    "language_info": {
      "name": "python"
    }
  },
  "cells": [
    {
      "cell_type": "markdown",
      "metadata": {
        "id": "view-in-github",
        "colab_type": "text"
      },
      "source": [
        "<a href=\"https://colab.research.google.com/github/piaseckazaneta/CV/blob/master/Untitled17.ipynb\" target=\"_parent\"><img src=\"https://colab.research.google.com/assets/colab-badge.svg\" alt=\"Open In Colab\"/></a>"
      ]
    },
    {
      "cell_type": "code",
      "execution_count": null,
      "metadata": {
        "id": "fGIHLF4MWFRS"
      },
      "outputs": [],
      "source": [
        "#dataframe\n",
        "import numpy\n",
        "import pandas"
      ]
    },
    {
      "cell_type": "code",
      "source": [
        "myarray = numpy.array([[1, 2, 3],  [4, 5, 6]])\n",
        "rownames = ['a', 'b']\n",
        "colnames = ['one', 'two', 'three']\n",
        "mydataframe = pandas.DataFrame(myarray, index=rownames, columns=colnames)\n",
        "print(mydataframe)"
      ],
      "metadata": {
        "colab": {
          "base_uri": "https://localhost:8080/"
        },
        "id": "WydL3KEqWTFW",
        "outputId": "6e90d1a5-d10a-40f0-c203-806e37106d16"
      },
      "execution_count": null,
      "outputs": [
        {
          "output_type": "stream",
          "name": "stdout",
          "text": [
            "   one  two  three\n",
            "a    1    2      3\n",
            "b    4    5      6\n"
          ]
        }
      ]
    },
    {
      "cell_type": "markdown",
      "source": [
        "Zadanie 1.\n",
        "Napisz program, który:\n",
        "\n",
        "Prosi użytkownika o podanie listy liczb (oddzielonych przecinkami).\n",
        "Sortuje listę rosnąco.\n",
        "Wyświetla wszystkie liczby większe od średniej.\n",
        "Jeśli liczba na liście jest większa od 10, wyświetla dodatkowy komunikat."
      ],
      "metadata": {
        "id": "9JZHHw2SYVKf"
      }
    },
    {
      "cell_type": "code",
      "source": [
        "# Pobranie danych od użytkownika (użytkownik wprowadzi tekst, w następnym kroku bęzie trzeba zamienić na liczbę)\n",
        "dane = input('Podaj listę liczb oddzielonych przecinkami: ')\n"
      ],
      "metadata": {
        "colab": {
          "base_uri": "https://localhost:8080/"
        },
        "id": "c85TWhV8YWuN",
        "outputId": "1ffa95c9-5829-4c1b-a12f-38a604eb2972"
      },
      "execution_count": null,
      "outputs": [
        {
          "name": "stdout",
          "output_type": "stream",
          "text": [
            "Podaj listę liczb oddzielonych przecinkami: 1, 3, 5, 6, 7, 8, 2, 4\n"
          ]
        }
      ]
    },
    {
      "cell_type": "code",
      "source": [
        "liczby = list(map(int, dane.split(',')))\n",
        "\n",
        "# Metoda .split(',') bierze ciąg znaków (dane) i dzieli go na fragmenty w miejscach, gdzie występuje przecinek (,).\n",
        "# Wynik jest listą tekstowych elementów (stringów)\n",
        "\n",
        "#Funkcja map() stosuje podaną funkcję (w tym przypadku int) do każdego elementu listy.\n",
        "#map() nie zwraca listy, ale iterator, który trzeba jeszcze przekształcić w listę.\n",
        "\n",
        "#Funkcja list() konwertuje iterator (wynik działania map) na listę, którą można używać w programie.\n",
        "\n",
        "print('Twoja lista liczb: ', liczby)"
      ],
      "metadata": {
        "colab": {
          "base_uri": "https://localhost:8080/"
        },
        "id": "fuE8XBENYoxq",
        "outputId": "7d9ca4b9-0b5b-495c-bee6-b9e3bda6a4df"
      },
      "execution_count": null,
      "outputs": [
        {
          "output_type": "stream",
          "name": "stdout",
          "text": [
            "Twoja lista liczb:  [1, 3, 5, 6, 7, 8, 2, 4]\n"
          ]
        }
      ]
    },
    {
      "cell_type": "code",
      "source": [
        "liczby.sort()\n",
        "print(liczby)"
      ],
      "metadata": {
        "colab": {
          "base_uri": "https://localhost:8080/"
        },
        "id": "SCzE1-LpaE8y",
        "outputId": "caa5c7b0-aa08-4c4c-f153-cafc5ffd60f7"
      },
      "execution_count": null,
      "outputs": [
        {
          "output_type": "stream",
          "name": "stdout",
          "text": [
            "[1, 2, 3, 4, 5, 6, 7, 8]\n"
          ]
        }
      ]
    },
    {
      "cell_type": "code",
      "source": [
        "import statistics\n",
        "srednia = statistics.mean(liczby)\n",
        "print(srednia)"
      ],
      "metadata": {
        "colab": {
          "base_uri": "https://localhost:8080/"
        },
        "id": "NaEVniydexwQ",
        "outputId": "c09cb453-5abd-4b26-ae8e-e8281c6b9318"
      },
      "execution_count": null,
      "outputs": [
        {
          "output_type": "stream",
          "name": "stdout",
          "text": [
            "4.5\n"
          ]
        }
      ]
    },
    {
      "cell_type": "code",
      "source": [
        "liczba_wieksza_od_sredniej = [liczba for liczba in liczby if liczba > srednia]\n",
        "print(liczba_wieksza_od_sredniej)"
      ],
      "metadata": {
        "colab": {
          "base_uri": "https://localhost:8080/"
        },
        "id": "bXJ0A4LgflLo",
        "outputId": "ad6a639d-7ce6-464d-a6d7-3d06791ba1d5"
      },
      "execution_count": null,
      "outputs": [
        {
          "output_type": "stream",
          "name": "stdout",
          "text": [
            "[5, 6, 7, 8]\n"
          ]
        }
      ]
    },
    {
      "cell_type": "markdown",
      "source": [
        "Powyższy kod tworzy nową listę, zawierającą tylko liczby większe od średniej.\n",
        "\n",
        "liczba for liczba in liczby: iteruje przez każdą liczbę w liście.\n",
        "if liczba > srednia: sprawdza, czy liczba jest większa od średniej."
      ],
      "metadata": {
        "id": "TCy702qigw4m"
      }
    },
    {
      "cell_type": "markdown",
      "source": [
        "Poniżej sprawdzenie, czy w liście znajduje się liczba większa od 10.\n",
        "\n",
        "Można to zrobić na kilka sposobów\n",
        "1. If: [wartość_if for element in iterowalny_obiekt if warunek]\n",
        "2. If-else: [wartość_if_true if warunek else wartość_if_false for element in iterowalny_obiekt]\n",
        "3. any() lub filter() dla bardziej zwięzłego kodu\n",
        "4. Pętla for"
      ],
      "metadata": {
        "id": "is33wiY5jnT6"
      }
    },
    {
      "cell_type": "code",
      "source": [
        "for liczba in liczby:\n",
        "  if liczba > 10:\n",
        "    print('Liczba większa od 10')\n",
        "  else:\n",
        "    print('Brak liczby większej od 10')"
      ],
      "metadata": {
        "colab": {
          "base_uri": "https://localhost:8080/"
        },
        "id": "9e40lpqHhF5W",
        "outputId": "9f5e8b50-0676-422b-f2fc-12a23a5f1d80"
      },
      "execution_count": null,
      "outputs": [
        {
          "output_type": "stream",
          "name": "stdout",
          "text": [
            "Brak liczby większej od 10\n",
            "Brak liczby większej od 10\n",
            "Brak liczby większej od 10\n",
            "Brak liczby większej od 10\n",
            "Brak liczby większej od 10\n",
            "Brak liczby większej od 10\n",
            "Brak liczby większej od 10\n",
            "Brak liczby większej od 10\n"
          ]
        }
      ]
    },
    {
      "cell_type": "markdown",
      "source": [
        "Zadanie.\n",
        "Sprawdź, czy liczba jest parzysta czy nieparzysta\n",
        "\n",
        "Napisz program w Pythonie, który:\n",
        "1.Pyta użytkownika o podanie liczby całkowitej.\n",
        "2.Sprawdza, czy liczba jest parzysta czy nieparzysta.\n",
        "3.Wyświetla odpowiedni komunikat w zależności od wyniku."
      ],
      "metadata": {
        "id": "v6ID_Rlpct_T"
      }
    },
    {
      "cell_type": "code",
      "source": [
        "liczba = input('Podaj liczbę całkowitą:')"
      ],
      "metadata": {
        "colab": {
          "base_uri": "https://localhost:8080/"
        },
        "id": "z5fuMgxpc3LZ",
        "outputId": "b7325c0a-6cfe-41e7-9a48-e5e018054112"
      },
      "execution_count": null,
      "outputs": [
        {
          "name": "stdout",
          "output_type": "stream",
          "text": [
            "Podaj liczbę całkowitą:3\n"
          ]
        }
      ]
    },
    {
      "cell_type": "code",
      "source": [
        "liczba = int(liczba)"
      ],
      "metadata": {
        "id": "ku6WaftHdegZ"
      },
      "execution_count": null,
      "outputs": []
    },
    {
      "cell_type": "code",
      "source": [
        "if liczba % 2 == 0:\n",
        "  print('liczba parzysta')\n",
        "else:\n",
        "  print('liczba nieparzysta')\n",
        "\n",
        "### % - modulo - reszta z dzielenia dwóch liczb\n",
        "### == porównanie dwóch liczb"
      ],
      "metadata": {
        "colab": {
          "base_uri": "https://localhost:8080/"
        },
        "id": "ypFZrkHCdCSb",
        "outputId": "62136f8d-11be-4113-be07-7e5b3e2a854d"
      },
      "execution_count": null,
      "outputs": [
        {
          "output_type": "stream",
          "name": "stdout",
          "text": [
            "liczba nieparzysta\n"
          ]
        }
      ]
    },
    {
      "cell_type": "markdown",
      "source": [
        "Zadanie. Kalkulator ocen\n",
        "\n",
        "Napisz program, który:\n",
        "\n",
        "Pyta użytkownika o liczbę punktów zdobytych na sprawdzianie (od 0 do 100).\n",
        "Na podstawie liczby punktów wyświetla ocenę według poniższej tabeli:\n",
        "90–100 punktów: ocena 5\n",
        "75–89 punktów: ocena 4\n",
        "50–74 punktów: ocena 3\n",
        "0–49 punktów: ocena 2\n",
        "Jeśli użytkownik poda liczbę spoza zakresu (np. -5 lub 120), program wyświetli komunikat: \"Niepoprawna liczba punktów!\"\n"
      ],
      "metadata": {
        "id": "qwn7rd7ceeIP"
      }
    },
    {
      "cell_type": "code",
      "source": [
        "punkty = input('Podaj liczbę punktów: ')"
      ],
      "metadata": {
        "colab": {
          "base_uri": "https://localhost:8080/"
        },
        "id": "FgCG_fJ8ej7S",
        "outputId": "398ee908-f50f-4fe1-ee89-fe3c7065db1c"
      },
      "execution_count": null,
      "outputs": [
        {
          "name": "stdout",
          "output_type": "stream",
          "text": [
            "Podaj liczbę punktów: 120\n"
          ]
        }
      ]
    },
    {
      "cell_type": "code",
      "source": [
        "punkty = int(punkty)"
      ],
      "metadata": {
        "id": "ZRf3HS_ber11"
      },
      "execution_count": null,
      "outputs": []
    },
    {
      "cell_type": "code",
      "source": [
        "if punkty >= 90 and punkty <=100:\n",
        "  print('ocena 5')\n",
        "elif punkty >= 75 and punkty <= 89:\n",
        "    print('ocena 4')\n",
        "elif punkty >= 50 and punkty <= 74:\n",
        "    print('ocena 3')\n",
        "elif punkty >= 0 and punkty <=49:\n",
        "    print('ocena 2')\n",
        "else:\n",
        "  print('Niepoprawna liczba punktów')"
      ],
      "metadata": {
        "colab": {
          "base_uri": "https://localhost:8080/"
        },
        "id": "4Ny_M9iJfvvK",
        "outputId": "0e2c5b13-9dc0-4c4e-a0f3-44d96f06947d"
      },
      "execution_count": null,
      "outputs": [
        {
          "output_type": "stream",
          "name": "stdout",
          "text": [
            "Niepoprawna liczba punktów\n"
          ]
        }
      ]
    },
    {
      "cell_type": "markdown",
      "source": [
        "Zadanie.\n",
        "Pętla for - wypisywanie liczb od 1 do 10 i sprawdzanie, czy są parzyste czy nieparzyste"
      ],
      "metadata": {
        "id": "2aRj9NxrI_jj"
      }
    },
    {
      "cell_type": "code",
      "source": [
        "liczby = [1, 2, 3, 4, 5, 6, 7, 8, 9, 10]\n",
        "for liczba in liczby:\n",
        "  if liczba %2 ==0:\n",
        "    print('To jest liczba parzysta')\n",
        "  else:\n",
        "    print('To jest liczba nieparzysta')"
      ],
      "metadata": {
        "colab": {
          "base_uri": "https://localhost:8080/"
        },
        "id": "Qu53FSaoJUQA",
        "outputId": "d410e362-7364-4540-e13b-23e9107b0df8"
      },
      "execution_count": null,
      "outputs": [
        {
          "output_type": "stream",
          "name": "stdout",
          "text": [
            "To jest liczba nieparzysta\n",
            "To jest liczba parzysta\n",
            "To jest liczba nieparzysta\n",
            "To jest liczba parzysta\n",
            "To jest liczba nieparzysta\n",
            "To jest liczba parzysta\n",
            "To jest liczba nieparzysta\n",
            "To jest liczba parzysta\n",
            "To jest liczba nieparzysta\n",
            "To jest liczba parzysta\n"
          ]
        }
      ]
    },
    {
      "cell_type": "code",
      "source": [
        "for i in range(10):\n",
        "  print(i)"
      ],
      "metadata": {
        "colab": {
          "base_uri": "https://localhost:8080/"
        },
        "id": "Gd_dUF2uKSzV",
        "outputId": "ef367d3a-e075-49b7-94ff-28f582a4da8d"
      },
      "execution_count": null,
      "outputs": [
        {
          "output_type": "stream",
          "name": "stdout",
          "text": [
            "0\n",
            "1\n",
            "2\n",
            "3\n",
            "4\n",
            "5\n",
            "6\n",
            "7\n",
            "8\n",
            "9\n"
          ]
        }
      ]
    },
    {
      "cell_type": "code",
      "source": [
        "for i in range(3):\n",
        "  print(f\"To jest liczba {i}\")"
      ],
      "metadata": {
        "colab": {
          "base_uri": "https://localhost:8080/"
        },
        "id": "4eOFGaB2Kg9i",
        "outputId": "443dba5f-6186-44be-8939-a85ac40837bb"
      },
      "execution_count": null,
      "outputs": [
        {
          "output_type": "stream",
          "name": "stdout",
          "text": [
            "To jest liczba 0\n",
            "To jest liczba 1\n",
            "To jest liczba 2\n"
          ]
        }
      ]
    },
    {
      "cell_type": "code",
      "source": [
        "for litera in \"drzewo\":\n",
        "  print(litera)"
      ],
      "metadata": {
        "colab": {
          "base_uri": "https://localhost:8080/"
        },
        "id": "eIb37U59K8co",
        "outputId": "d00aa48e-e6f4-4cc1-8cd7-386f8b6d415b"
      },
      "execution_count": null,
      "outputs": [
        {
          "output_type": "stream",
          "name": "stdout",
          "text": [
            "d\n",
            "r\n",
            "z\n",
            "e\n",
            "w\n",
            "o\n"
          ]
        }
      ]
    },
    {
      "cell_type": "markdown",
      "source": [
        "Zadanie\n",
        "\n",
        "Napisz program, który przyjmuje listę dowolnych liczb i oblicza sumę tylko tych liczb, które są dodatnie. Wyświetl także, ile było liczb dodatnich."
      ],
      "metadata": {
        "id": "Q0DoweqPLVtI"
      }
    },
    {
      "cell_type": "code",
      "source": [
        "dane = input('Podaj listę liczb oddzielonych przecinkami: ')\n",
        "liczby = list(map(int, dane.split(',')))\n"
      ],
      "metadata": {
        "colab": {
          "base_uri": "https://localhost:8080/"
        },
        "id": "JZRqTUNTLYZx",
        "outputId": "b80e07e4-1f1c-4f0e-dcc6-2030bb3664cb"
      },
      "execution_count": null,
      "outputs": [
        {
          "name": "stdout",
          "output_type": "stream",
          "text": [
            "Podaj listę liczb oddzielonych przecinkami: -1, 2, 3, 4, -4, 5, -8\n"
          ]
        }
      ]
    },
    {
      "cell_type": "code",
      "source": [
        "dodatnie = [liczba for liczby in liczby if liczba > 0]\n",
        "ujemne = [liczba for liczba in liczby if liczba < 0]"
      ],
      "metadata": {
        "id": "SaJ4NM8_MIQo"
      },
      "execution_count": null,
      "outputs": []
    },
    {
      "cell_type": "code",
      "source": [
        "print(dodatnie)\n",
        "print(ujemne)"
      ],
      "metadata": {
        "colab": {
          "base_uri": "https://localhost:8080/"
        },
        "id": "jd6pGrqoMvps",
        "outputId": "1d72997e-8cd1-4590-dd70-8799da5bf250"
      },
      "execution_count": null,
      "outputs": [
        {
          "output_type": "stream",
          "name": "stdout",
          "text": [
            "[10, 10, 10, 10, 10, 10, 10]\n",
            "[-1, -4, -8]\n"
          ]
        }
      ]
    },
    {
      "cell_type": "code",
      "source": [
        "suma = sum(dodatnie)\n",
        "print(suma)"
      ],
      "metadata": {
        "colab": {
          "base_uri": "https://localhost:8080/"
        },
        "id": "bkiVP21INLp1",
        "outputId": "fbb064dd-65dc-4f08-d54b-86e924078b70"
      },
      "execution_count": null,
      "outputs": [
        {
          "output_type": "stream",
          "name": "stdout",
          "text": [
            "70\n"
          ]
        }
      ]
    },
    {
      "cell_type": "code",
      "source": [
        "liczba_dodatnich = len(dodatnie)\n",
        "print(f\"W liście znajduje się {liczba_dodatnich} liczb\")"
      ],
      "metadata": {
        "colab": {
          "base_uri": "https://localhost:8080/"
        },
        "id": "uH8Z8jlINU71",
        "outputId": "81ce9cbf-fbf3-4fb8-a491-c62a2487a28c"
      },
      "execution_count": null,
      "outputs": [
        {
          "output_type": "stream",
          "name": "stdout",
          "text": [
            "W liście znajduje się 7 liczb\n"
          ]
        }
      ]
    },
    {
      "cell_type": "markdown",
      "source": [
        "WYKRESY - MATPLOTLIB\n",
        "\n",
        "Exercise: Plot a Single Line\n",
        "Objective: Create a basic line plot to show a linear relationship.\n",
        "Steps:\n",
        "Import matplotlib.pyplot as plt.\n",
        "Create two lists:\n",
        "x = [1, 2, 3, 4, 5]\n",
        "y = [2, 4, 6, 8, 10]\n",
        "Plot x vs. y as a line plot.\n",
        "Add the following features:\n",
        "A title: \"Simple Line Plot\"\n",
        "X-axis label: \"X-axis\"\n",
        "Y-axis label: \"Y-axis\""
      ],
      "metadata": {
        "id": "a534txk4NZwG"
      }
    },
    {
      "cell_type": "code",
      "source": [
        "import matplotlib.pyplot as plt"
      ],
      "metadata": {
        "id": "VxSuCxF5Npig"
      },
      "execution_count": 1,
      "outputs": []
    },
    {
      "cell_type": "code",
      "source": [
        "x = [1, 2, 3, 4, 5]\n",
        "y = [2, 4, 6, 8, 10]"
      ],
      "metadata": {
        "id": "XqDXAPpCNuSL"
      },
      "execution_count": 3,
      "outputs": []
    },
    {
      "cell_type": "code",
      "source": [
        "plt.plot(x, y)\n",
        "plt.title(\"Simple Line Plot\")\n",
        "plt.xlabel(\"X-axis\")\n",
        "plt.ylabel(\"Y-axis\")"
      ],
      "metadata": {
        "colab": {
          "base_uri": "https://localhost:8080/",
          "height": 489
        },
        "id": "v3qi4GBDNuEW",
        "outputId": "adceedf2-2493-421b-caf9-de3f0b70e19b"
      },
      "execution_count": 5,
      "outputs": [
        {
          "output_type": "execute_result",
          "data": {
            "text/plain": [
              "Text(0, 0.5, 'Y-axis')"
            ]
          },
          "metadata": {},
          "execution_count": 5
        },
        {
          "output_type": "display_data",
          "data": {
            "text/plain": [
              "<Figure size 640x480 with 1 Axes>"
            ],
            "image/png": "[encoded data removed]"
          },
          "metadata": {}
        }
      ]
    },
    {
      "cell_type": "markdown",
      "source": [
        "Exercise: Plot a Scatter Plot\n",
        "Objective: Create a basic scatter plot to visualize a set of points.\n"
      ],
      "metadata": {
        "id": "zNXuAGNZO9rS"
      }
    },
    {
      "cell_type": "code",
      "source": [
        "x = [2,3,4,5,6]\n",
        "y = [4,6,8,1,9]"
      ],
      "metadata": {
        "id": "KHmuset2O-l4"
      },
      "execution_count": 6,
      "outputs": []
    },
    {
      "cell_type": "code",
      "source": [
        "plt.scatter(x, y)\n",
        "plt.title(\"Simple Scatter Plot\")\n",
        "plt.xlabel(\"X-axis\")\n",
        "plt.ylabel(\"Y-axis\")"
      ],
      "metadata": {
        "colab": {
          "base_uri": "https://localhost:8080/",
          "height": 489
        },
        "id": "NLtqhPHxPE13",
        "outputId": "356ec6ed-8c82-49e2-eb9c-ee5efe9dfd11"
      },
      "execution_count": 7,
      "outputs": [
        {
          "output_type": "execute_result",
          "data": {
            "text/plain": [
              "Text(0, 0.5, 'Y-axis')"
            ]
          },
          "metadata": {},
          "execution_count": 7
        },
        {
          "output_type": "display_data",
          "data": {
            "text/plain": [
              "<Figure size 640x480 with 1 Axes>"
            ],
            "image/png": "[encoded data removed]"
          },
          "metadata": {}
        }
      ]
    },
    {
      "cell_type": "markdown",
      "source": [
        "Exercise 1: Working with Pandas Series\n",
        "\n",
        "Objective: Create and manipulate a Pandas Series."
      ],
      "metadata": {
        "id": "8HnNYcOLPnAG"
      }
    },
    {
      "cell_type": "code",
      "source": [
        "import pandas as pd"
      ],
      "metadata": {
        "id": "XmTy0SIqPoKP"
      },
      "execution_count": 8,
      "outputs": []
    },
    {
      "cell_type": "code",
      "source": [
        "series = pd.Series([10, 20, 30, 40, 50])"
      ],
      "metadata": {
        "id": "C5chH4tBPski"
      },
      "execution_count": 20,
      "outputs": []
    },
    {
      "cell_type": "code",
      "source": [],
      "metadata": {
        "id": "HY9-_y_xSr6p"
      },
      "execution_count": null,
      "outputs": []
    },
    {
      "cell_type": "code",
      "source": [
        "series.index = ['a', 'b', 'c', 'd', 'e']"
      ],
      "metadata": {
        "id": "588wpQ61Sg9p"
      },
      "execution_count": 24,
      "outputs": []
    },
    {
      "cell_type": "code",
      "source": [
        "print(series)"
      ],
      "metadata": {
        "colab": {
          "base_uri": "https://localhost:8080/"
        },
        "id": "TCb63VHlTCoC",
        "outputId": "8db8f7f0-652f-4e9c-e18b-f07707ae0076"
      },
      "execution_count": 25,
      "outputs": [
        {
          "output_type": "stream",
          "name": "stdout",
          "text": [
            "a    10\n",
            "b    20\n",
            "c    30\n",
            "d    40\n",
            "e    50\n",
            "dtype: int64\n"
          ]
        }
      ]
    },
    {
      "cell_type": "code",
      "source": [
        "# Access the value associated with the index 'c'\n",
        "\n",
        "value = series['c']\n",
        "print(value)"
      ],
      "metadata": {
        "colab": {
          "base_uri": "https://localhost:8080/"
        },
        "id": "CrPkorTQTaot",
        "outputId": "5e4b4525-151f-4a01-9d0a-869a87f5e883"
      },
      "execution_count": 26,
      "outputs": [
        {
          "output_type": "stream",
          "name": "stdout",
          "text": [
            "30\n"
          ]
        }
      ]
    },
    {
      "cell_type": "code",
      "source": [
        "# Add 5 to each value in the Series\n",
        "\n",
        "series = series + 5\n",
        "print(series)"
      ],
      "metadata": {
        "colab": {
          "base_uri": "https://localhost:8080/"
        },
        "id": "lX5XIlRxTwhO",
        "outputId": "6b294525-4aca-464c-88b9-edcb1724416f"
      },
      "execution_count": 27,
      "outputs": [
        {
          "output_type": "stream",
          "name": "stdout",
          "text": [
            "a    15\n",
            "b    25\n",
            "c    35\n",
            "d    45\n",
            "e    55\n",
            "dtype: int64\n"
          ]
        }
      ]
    },
    {
      "cell_type": "code",
      "source": [
        "# Filter the Series to show only values greater than 35\n",
        "\n",
        "for liczba in series:\n",
        "  if liczba > 35:\n",
        "    print(liczba)"
      ],
      "metadata": {
        "colab": {
          "base_uri": "https://localhost:8080/"
        },
        "id": "Iby_o_SsUCNe",
        "outputId": "cbc7c97d-e53b-435e-d8d5-cbf86ccc6996"
      },
      "execution_count": 31,
      "outputs": [
        {
          "output_type": "stream",
          "name": "stdout",
          "text": [
            "45\n",
            "55\n"
          ]
        }
      ]
    }
  ]
}